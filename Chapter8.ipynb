{
 "cells": [
  {
   "cell_type": "markdown",
   "metadata": {},
   "source": [
    "# Chapter 8"
   ]
  },
  {
   "cell_type": "markdown",
   "metadata": {},
   "source": [
    "## Exercise 1: Maximum MEC of Neural Networks\n",
    "What is the maximum memory-equivalent capacity of the following neural networks. Assume binary classification, all weights are non-zero and all units have biases. There is enough information in the input that the first layer is not limited by it:"
   ]
  },
  {
   "cell_type": "markdown",
   "metadata": {},
   "source": [
    "(a)\n",
    "\n",
    "<img src=\"8-1a.png\" style=\"width: 200px;\"/>"
   ]
  },
  {
   "cell_type": "markdown",
   "metadata": {},
   "source": [
    "**Solution**: $12 + \\min (12, 3) + \\min(3, 3) = 18$ bits"
   ]
  },
  {
   "cell_type": "markdown",
   "metadata": {},
   "source": [
    "(b)\n",
    "\n",
    "<img src=\"8-1b.png\" style=\"width: 200px;\"/>"
   ]
  },
  {
   "cell_type": "markdown",
   "metadata": {},
   "source": [
    "**Solution**: 3 + 4 + 4 = 11 bits"
   ]
  },
  {
   "cell_type": "markdown",
   "metadata": {},
   "source": [
    "(c) What is the maximum amount of rows that each network in (a) and (b) can memorize?"
   ]
  },
  {
   "cell_type": "markdown",
   "metadata": {},
   "source": [
    "**Solution**: For binary classification, we need 1 bit of output per row. Hence, Network (a) can memorize 18 rows of input while Network (b) can memorize 11 rows."
   ]
  },
  {
   "cell_type": "markdown",
   "metadata": {},
   "source": [
    "(d) Answer (c) but for 4 classes instead of binary classification."
   ]
  },
  {
   "cell_type": "markdown",
   "metadata": {},
   "source": [
    "**Solution**: For 4-class classification, we need 2 bits of output instead of 1. Hence, Network (a) can memorize 9 rows of input while Network (b) can memorize 5 rows."
   ]
  },
  {
   "cell_type": "markdown",
   "metadata": {},
   "source": [
    "## Exercise 2\n",
    "\n",
    "Draw two different neural network architectures that can guarantee to memorize the training data of a 12-instance binary classification problem of 4-dimensional inputs (assuming perfect training)."
   ]
  },
  {
   "cell_type": "markdown",
   "metadata": {},
   "source": [
    "**Solution**:\n",
    "\n",
    "To classify 12 rows of binary-classification data, the MEC needs to be at least 12 bits.\n",
    "\n",
    "<img src=\"8-2.jpeg\" style=\"width: 400px;\"/>\n",
    "\n",
    "Here, the left network has $5 \\times 4 + \\min (5, 4) = 24 bits of MEC, and the right network has $5 \\times 2 + \\min (3, 2) = 12$ bits of MEC. Both are sufficient for this problem."
   ]
  },
  {
   "cell_type": "markdown",
   "metadata": {},
   "source": [
    "## Exercise 4: Upper Bounds"
   ]
  },
  {
   "cell_type": "markdown",
   "metadata": {},
   "source": [
    "(a) Estimate in bits the total sensory experience that you have had in your life – visual information, auditory information, etc. Estimate how much information you have memorized. Estimate the information content of the works of Shakespeare. Compare these with the capacity of your brain assuming you have $10^{11}$ neurons each making 1000 synaptic connections and that the (information) capacity result for one neuron (two bits per connection) applies. Is your brain full yet?"
   ]
  },
  {
   "cell_type": "markdown",
   "metadata": {},
   "source": [
    "**Solution**: Under the assumptions, the MEC of the brain is $10^8 \\times \\min(1000, 1001 \\times 1000) = 10^{11}$ bits. If we are considering information capacity, it would be $2 \\times 10^{11}$ bits. "
   ]
  },
  {
   "cell_type": "markdown",
   "metadata": {},
   "source": [
    "(b) Expand Algorithm 8 to work with more than one binary classification."
   ]
  },
  {
   "cell_type": "markdown",
   "metadata": {},
   "source": [
    "**Solution**: \n",
    "You can change the incrementing of thresholds to incrementing to the true class. "
   ]
  },
  {
   "cell_type": "markdown",
   "metadata": {},
   "source": [
    "(c) Expand Algorithm 8 to work with regression."
   ]
  },
  {
   "cell_type": "markdown",
   "metadata": {},
   "source": [
    "**Solution**: You can change the reassignment of the thresholds to assigning it to the true label. "
   ]
  }
 ],
 "metadata": {
  "language_info": {
   "name": "python"
  }
 },
 "nbformat": 4,
 "nbformat_minor": 2
}
